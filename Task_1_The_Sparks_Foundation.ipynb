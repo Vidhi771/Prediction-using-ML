{
  "nbformat": 4,
  "nbformat_minor": 0,
  "metadata": {
    "colab": {
      "name": "Task-1 The Sparks Foundation",
      "provenance": []
    },
    "kernelspec": {
      "name": "python3",
      "display_name": "Python 3"
    },
    "language_info": {
      "name": "python"
    }
  },
  "cells": [
    {
      "cell_type": "markdown",
      "metadata": {
        "id": "faTbuJ09txa2"
      },
      "source": [
        "# Author-Vidhi Agrawal (Data Science and Business Analytics Intern)\n",
        "# The Sparks Foundation\n",
        "# Task-1\n",
        "# Prediction Using Supervise Machine Learning(ML)"
      ]
    },
    {
      "cell_type": "markdown",
      "metadata": {
        "id": "0oIXMN8swB3X"
      },
      "source": [
        "Predicting the percentage of a student based on number of study hours. "
      ]
    },
    {
      "cell_type": "markdown",
      "metadata": {
        "id": "2p9AowEaworK"
      },
      "source": [
        "***IMPORTING THE LIBRARIES***"
      ]
    },
    {
      "cell_type": "code",
      "metadata": {
        "id": "mlHGi8n-twNQ"
      },
      "source": [
        "import pandas as pd\n",
        "import numpy as np\n",
        "import matplotlib.pyplot as plt\n",
        "%matplotlib inline\n",
        "import seaborn as sns"
      ],
      "execution_count": 19,
      "outputs": []
    },
    {
      "cell_type": "markdown",
      "metadata": {
        "id": "ageLeFJ2yqfN"
      },
      "source": [
        "***READING DATA FORM REMOTE LINK***"
      ]
    },
    {
      "cell_type": "code",
      "metadata": {
        "colab": {
          "base_uri": "https://localhost:8080/",
          "height": 376
        },
        "id": "qbQaceSd0v2V",
        "outputId": "fd0c90bc-c44e-488c-d8ce-abed952271a5"
      },
      "source": [
        "\n",
        "s_data =  pd.read_csv(\"http://bit.ly/w-data\")\n",
        "print(\"Data Imported Successfully\")\n",
        "s_data.head(10)"
      ],
      "execution_count": 20,
      "outputs": [
        {
          "output_type": "stream",
          "text": [
            "Data Imported Successfully\n"
          ],
          "name": "stdout"
        },
        {
          "output_type": "execute_result",
          "data": {
            "text/html": [
              "<div>\n",
              "<style scoped>\n",
              "    .dataframe tbody tr th:only-of-type {\n",
              "        vertical-align: middle;\n",
              "    }\n",
              "\n",
              "    .dataframe tbody tr th {\n",
              "        vertical-align: top;\n",
              "    }\n",
              "\n",
              "    .dataframe thead th {\n",
              "        text-align: right;\n",
              "    }\n",
              "</style>\n",
              "<table border=\"1\" class=\"dataframe\">\n",
              "  <thead>\n",
              "    <tr style=\"text-align: right;\">\n",
              "      <th></th>\n",
              "      <th>Hours</th>\n",
              "      <th>Scores</th>\n",
              "    </tr>\n",
              "  </thead>\n",
              "  <tbody>\n",
              "    <tr>\n",
              "      <th>0</th>\n",
              "      <td>2.5</td>\n",
              "      <td>21</td>\n",
              "    </tr>\n",
              "    <tr>\n",
              "      <th>1</th>\n",
              "      <td>5.1</td>\n",
              "      <td>47</td>\n",
              "    </tr>\n",
              "    <tr>\n",
              "      <th>2</th>\n",
              "      <td>3.2</td>\n",
              "      <td>27</td>\n",
              "    </tr>\n",
              "    <tr>\n",
              "      <th>3</th>\n",
              "      <td>8.5</td>\n",
              "      <td>75</td>\n",
              "    </tr>\n",
              "    <tr>\n",
              "      <th>4</th>\n",
              "      <td>3.5</td>\n",
              "      <td>30</td>\n",
              "    </tr>\n",
              "    <tr>\n",
              "      <th>5</th>\n",
              "      <td>1.5</td>\n",
              "      <td>20</td>\n",
              "    </tr>\n",
              "    <tr>\n",
              "      <th>6</th>\n",
              "      <td>9.2</td>\n",
              "      <td>88</td>\n",
              "    </tr>\n",
              "    <tr>\n",
              "      <th>7</th>\n",
              "      <td>5.5</td>\n",
              "      <td>60</td>\n",
              "    </tr>\n",
              "    <tr>\n",
              "      <th>8</th>\n",
              "      <td>8.3</td>\n",
              "      <td>81</td>\n",
              "    </tr>\n",
              "    <tr>\n",
              "      <th>9</th>\n",
              "      <td>2.7</td>\n",
              "      <td>25</td>\n",
              "    </tr>\n",
              "  </tbody>\n",
              "</table>\n",
              "</div>"
            ],
            "text/plain": [
              "   Hours  Scores\n",
              "0    2.5      21\n",
              "1    5.1      47\n",
              "2    3.2      27\n",
              "3    8.5      75\n",
              "4    3.5      30\n",
              "5    1.5      20\n",
              "6    9.2      88\n",
              "7    5.5      60\n",
              "8    8.3      81\n",
              "9    2.7      25"
            ]
          },
          "metadata": {
            "tags": []
          },
          "execution_count": 20
        }
      ]
    },
    {
      "cell_type": "markdown",
      "metadata": {
        "id": "vn7zSMgL4mb7"
      },
      "source": [
        "***CHECKING THE SIZE OF DATASET***"
      ]
    },
    {
      "cell_type": "code",
      "metadata": {
        "colab": {
          "base_uri": "https://localhost:8080/"
        },
        "id": "aa-LRtZJ42zc",
        "outputId": "01102080-61e9-4d4a-c7ed-3b6acfb95494"
      },
      "source": [
        "s_data.shape"
      ],
      "execution_count": 21,
      "outputs": [
        {
          "output_type": "execute_result",
          "data": {
            "text/plain": [
              "(25, 2)"
            ]
          },
          "metadata": {
            "tags": []
          },
          "execution_count": 21
        }
      ]
    },
    {
      "cell_type": "markdown",
      "metadata": {
        "id": "Po8D05MD5GNE"
      },
      "source": [
        "***SUMMARY OF DATASET***"
      ]
    },
    {
      "cell_type": "code",
      "metadata": {
        "colab": {
          "base_uri": "https://localhost:8080/",
          "height": 297
        },
        "id": "oh34BAbt5qvy",
        "outputId": "ab26ff66-8bb1-41e6-8a45-ecf590f97d26"
      },
      "source": [
        "s_data.describe()"
      ],
      "execution_count": 22,
      "outputs": [
        {
          "output_type": "execute_result",
          "data": {
            "text/html": [
              "<div>\n",
              "<style scoped>\n",
              "    .dataframe tbody tr th:only-of-type {\n",
              "        vertical-align: middle;\n",
              "    }\n",
              "\n",
              "    .dataframe tbody tr th {\n",
              "        vertical-align: top;\n",
              "    }\n",
              "\n",
              "    .dataframe thead th {\n",
              "        text-align: right;\n",
              "    }\n",
              "</style>\n",
              "<table border=\"1\" class=\"dataframe\">\n",
              "  <thead>\n",
              "    <tr style=\"text-align: right;\">\n",
              "      <th></th>\n",
              "      <th>Hours</th>\n",
              "      <th>Scores</th>\n",
              "    </tr>\n",
              "  </thead>\n",
              "  <tbody>\n",
              "    <tr>\n",
              "      <th>count</th>\n",
              "      <td>25.000000</td>\n",
              "      <td>25.000000</td>\n",
              "    </tr>\n",
              "    <tr>\n",
              "      <th>mean</th>\n",
              "      <td>5.012000</td>\n",
              "      <td>51.480000</td>\n",
              "    </tr>\n",
              "    <tr>\n",
              "      <th>std</th>\n",
              "      <td>2.525094</td>\n",
              "      <td>25.286887</td>\n",
              "    </tr>\n",
              "    <tr>\n",
              "      <th>min</th>\n",
              "      <td>1.100000</td>\n",
              "      <td>17.000000</td>\n",
              "    </tr>\n",
              "    <tr>\n",
              "      <th>25%</th>\n",
              "      <td>2.700000</td>\n",
              "      <td>30.000000</td>\n",
              "    </tr>\n",
              "    <tr>\n",
              "      <th>50%</th>\n",
              "      <td>4.800000</td>\n",
              "      <td>47.000000</td>\n",
              "    </tr>\n",
              "    <tr>\n",
              "      <th>75%</th>\n",
              "      <td>7.400000</td>\n",
              "      <td>75.000000</td>\n",
              "    </tr>\n",
              "    <tr>\n",
              "      <th>max</th>\n",
              "      <td>9.200000</td>\n",
              "      <td>95.000000</td>\n",
              "    </tr>\n",
              "  </tbody>\n",
              "</table>\n",
              "</div>"
            ],
            "text/plain": [
              "           Hours     Scores\n",
              "count  25.000000  25.000000\n",
              "mean    5.012000  51.480000\n",
              "std     2.525094  25.286887\n",
              "min     1.100000  17.000000\n",
              "25%     2.700000  30.000000\n",
              "50%     4.800000  47.000000\n",
              "75%     7.400000  75.000000\n",
              "max     9.200000  95.000000"
            ]
          },
          "metadata": {
            "tags": []
          },
          "execution_count": 22
        }
      ]
    },
    {
      "cell_type": "markdown",
      "metadata": {
        "id": "huxESIIs6fjz"
      },
      "source": [
        "***CHECKING FOR NULL VALUES***"
      ]
    },
    {
      "cell_type": "code",
      "metadata": {
        "colab": {
          "base_uri": "https://localhost:8080/"
        },
        "id": "iDaPGadC6pc3",
        "outputId": "e727e57c-0ae3-430a-de0b-84cc61a9619f"
      },
      "source": [
        "s_data.info()"
      ],
      "execution_count": 23,
      "outputs": [
        {
          "output_type": "stream",
          "text": [
            "<class 'pandas.core.frame.DataFrame'>\n",
            "RangeIndex: 25 entries, 0 to 24\n",
            "Data columns (total 2 columns):\n",
            " #   Column  Non-Null Count  Dtype  \n",
            "---  ------  --------------  -----  \n",
            " 0   Hours   25 non-null     float64\n",
            " 1   Scores  25 non-null     int64  \n",
            "dtypes: float64(1), int64(1)\n",
            "memory usage: 528.0 bytes\n"
          ],
          "name": "stdout"
        }
      ]
    },
    {
      "cell_type": "markdown",
      "metadata": {
        "id": "98avMiFv63Wf"
      },
      "source": [
        "    So there is no null values in our dataset."
      ]
    },
    {
      "cell_type": "markdown",
      "metadata": {
        "id": "g47NmUVV8GEH"
      },
      "source": [
        "***DATA VISUALISATION ON 2D GRAPH***"
      ]
    },
    {
      "cell_type": "markdown",
      "metadata": {
        "id": "ciuuzKZj8LR5"
      },
      "source": [
        "Let's plot our data points on 2-D graph to eyeball our dataset and see if we can manually find any relationship between the data. We can create the plot with the following script:"
      ]
    },
    {
      "cell_type": "code",
      "metadata": {
        "colab": {
          "base_uri": "https://localhost:8080/",
          "height": 304
        },
        "id": "AXM1TVzs7D3c",
        "outputId": "2e0dfe62-cdee-4f74-9fce-58a7341b65af"
      },
      "source": [
        "sns.set_style('darkgrid')\n",
        "sns.scatterplot(x= s_data['Hours'], y=s_data['Scores'])  \n",
        "plt.title('Hours vs Percentage',size=18,color='red')  \n",
        "plt.xlabel('Hours Studied',size=16)  \n",
        "plt.ylabel('Percentage Score',size=16)  \n",
        "plt.show()\n"
      ],
      "execution_count": 24,
      "outputs": [
        {
          "output_type": "display_data",
          "data": {
            "image/png": "[encoded data removed]",
            "text/plain": [
              "<Figure size 432x288 with 1 Axes>"
            ]
          },
          "metadata": {
            "tags": []
          }
        }
      ]
    },
    {
      "cell_type": "markdown",
      "metadata": {
        "id": "W0c4PZAZ_p-q"
      },
      "source": [
        "From the above graph we can clearly see that there is positive relation between PERCENTAGE SCORE and number of HOURS STUDIED"
      ]
    },
    {
      "cell_type": "markdown",
      "metadata": {
        "id": "Ym_aLZhmBo-s"
      },
      "source": [
        "***DATA PREPARATION***"
      ]
    },
    {
      "cell_type": "markdown",
      "metadata": {
        "id": "1E8FC4pEBww4"
      },
      "source": [
        "**Spliting data into input variables and target variables**"
      ]
    },
    {
      "cell_type": "code",
      "metadata": {
        "id": "l2tqeasgAA26"
      },
      "source": [
        "X = s_data['Hours'].values.reshape(-1,1)\n",
        "y = s_data['Scores'].values.reshape(-1,1)"
      ],
      "execution_count": 25,
      "outputs": []
    },
    {
      "cell_type": "markdown",
      "metadata": {
        "id": "s48eN1NnCtgA"
      },
      "source": [
        "**Spliting the data into Training and Test set**"
      ]
    },
    {
      "cell_type": "code",
      "metadata": {
        "colab": {
          "base_uri": "https://localhost:8080/"
        },
        "id": "p0lc4-3OC7HA",
        "outputId": "a717fa53-edd7-488a-c09b-5e5fdd7d32dd"
      },
      "source": [
        "from sklearn.model_selection import train_test_split  \n",
        "X_train, X_test, y_train, y_test = train_test_split(X, y, test_size=0.2, random_state=0) \n",
        "print('Training set X :',X_train.shape)\n",
        "print('Training set y :',y_train.shape)\n",
        "print('Test set X :',X_test.shape)\n",
        "print('Test set y :',y_test.shape)\n",
        "\n"
      ],
      "execution_count": 26,
      "outputs": [
        {
          "output_type": "stream",
          "text": [
            "Training set X : (20, 1)\n",
            "Training set y : (20, 1)\n",
            "Test set X : (5, 1)\n",
            "Test set y : (5, 1)\n"
          ],
          "name": "stdout"
        }
      ]
    },
    {
      "cell_type": "markdown",
      "metadata": {
        "id": "F4xH1ULcFwxP"
      },
      "source": [
        "***MODEL DEVELOPMENT***"
      ]
    },
    {
      "cell_type": "markdown",
      "metadata": {
        "id": "c1ZIuU0uF9bt"
      },
      "source": [
        "Here we build a ML model or simple linear regression using sckit learn library and training the model through the given dataset to predict the score of the student based on the no. of hours they study."
      ]
    },
    {
      "cell_type": "code",
      "metadata": {
        "colab": {
          "base_uri": "https://localhost:8080/"
        },
        "id": "7U9IkDMlFv6l",
        "outputId": "307c65ee-2837-4aa7-991a-334346e1c942"
      },
      "source": [
        "from sklearn.linear_model import LinearRegression  \n",
        "regressor = LinearRegression()  \n",
        "regressor.fit(X_train, y_train) \n",
        "print('Coefficient: ',regressor.coef_)\n",
        "\n"
      ],
      "execution_count": 27,
      "outputs": [
        {
          "output_type": "stream",
          "text": [
            "Coefficient:  [[9.91065648]]\n"
          ],
          "name": "stdout"
        }
      ]
    },
    {
      "cell_type": "code",
      "metadata": {
        "colab": {
          "base_uri": "https://localhost:8080/",
          "height": 295
        },
        "id": "kDm8PP7KHPdo",
        "outputId": "65205dba-ff54-4892-d6ed-74c9048d8899"
      },
      "source": [
        "# Plotting the regression line\n",
        "line = regressor.coef_*X+regressor.intercept_\n",
        "\n",
        "# Plotting for the test data\n",
        "plt.scatter(X, y, c= 'red')\n",
        "plt.title('Regression Plot')\n",
        "plt.xlabel('Number of Hours')\n",
        "plt.ylabel('Percentage')\n",
        "plt.plot(X, line);\n",
        "plt.show()"
      ],
      "execution_count": 28,
      "outputs": [
        {
          "output_type": "display_data",
          "data": {
            "image/png": "[encoded data removed]",
            "text/plain": [
              "<Figure size 432x288 with 1 Axes>"
            ]
          },
          "metadata": {
            "tags": []
          }
        }
      ]
    },
    {
      "cell_type": "markdown",
      "metadata": {
        "id": "4hIwmbJYhNz4"
      },
      "source": [
        "***CORRELATION BETWEEN THE ATTRIBUTE***"
      ]
    },
    {
      "cell_type": "code",
      "metadata": {
        "colab": {
          "base_uri": "https://localhost:8080/",
          "height": 111
        },
        "id": "JJ-WkynThcYy",
        "outputId": "95c7ae00-ed57-4a33-8884-b36ed98c0954"
      },
      "source": [
        "s_data.corr()"
      ],
      "execution_count": 29,
      "outputs": [
        {
          "output_type": "execute_result",
          "data": {
            "text/html": [
              "<div>\n",
              "<style scoped>\n",
              "    .dataframe tbody tr th:only-of-type {\n",
              "        vertical-align: middle;\n",
              "    }\n",
              "\n",
              "    .dataframe tbody tr th {\n",
              "        vertical-align: top;\n",
              "    }\n",
              "\n",
              "    .dataframe thead th {\n",
              "        text-align: right;\n",
              "    }\n",
              "</style>\n",
              "<table border=\"1\" class=\"dataframe\">\n",
              "  <thead>\n",
              "    <tr style=\"text-align: right;\">\n",
              "      <th></th>\n",
              "      <th>Hours</th>\n",
              "      <th>Scores</th>\n",
              "    </tr>\n",
              "  </thead>\n",
              "  <tbody>\n",
              "    <tr>\n",
              "      <th>Hours</th>\n",
              "      <td>1.000000</td>\n",
              "      <td>0.976191</td>\n",
              "    </tr>\n",
              "    <tr>\n",
              "      <th>Scores</th>\n",
              "      <td>0.976191</td>\n",
              "      <td>1.000000</td>\n",
              "    </tr>\n",
              "  </tbody>\n",
              "</table>\n",
              "</div>"
            ],
            "text/plain": [
              "           Hours    Scores\n",
              "Hours   1.000000  0.976191\n",
              "Scores  0.976191  1.000000"
            ]
          },
          "metadata": {
            "tags": []
          },
          "execution_count": 29
        }
      ]
    },
    {
      "cell_type": "markdown",
      "metadata": {
        "id": "oHuyhap7hwRX"
      },
      "source": [
        "***MAKING PREDICTIONS***"
      ]
    },
    {
      "cell_type": "markdown",
      "metadata": {
        "id": "j48BX5ddiBzS"
      },
      "source": [
        "Now that we have trained our algorithm, it's time to make some predictions."
      ]
    },
    {
      "cell_type": "code",
      "metadata": {
        "colab": {
          "base_uri": "https://localhost:8080/"
        },
        "id": "TTslikATh4Bz",
        "outputId": "0e368245-6043-4631-e320-a95254b39a7c"
      },
      "source": [
        "y_pred = regressor.predict(X_test)\n",
        "y_pred"
      ],
      "execution_count": 30,
      "outputs": [
        {
          "output_type": "execute_result",
          "data": {
            "text/plain": [
              "array([[16.88414476],\n",
              "       [33.73226078],\n",
              "       [75.357018  ],\n",
              "       [26.79480124],\n",
              "       [60.49103328]])"
            ]
          },
          "metadata": {
            "tags": []
          },
          "execution_count": 30
        }
      ]
    },
    {
      "cell_type": "markdown",
      "metadata": {
        "id": "ZGs8IZL4imE8"
      },
      "source": [
        "**Comparing Actual vs Predicted marks in the dataset**"
      ]
    },
    {
      "cell_type": "code",
      "metadata": {
        "colab": {
          "base_uri": "https://localhost:8080/",
          "height": 204
        },
        "id": "gkX8KcDTiwOO",
        "outputId": "f4738a23-c131-498f-c605-1b4269c2d93c"
      },
      "source": [
        "s_data = pd.DataFrame({'Hours': X_test.reshape(1,-1)[0], 'Actual': y_test.reshape(1,-1)[0], 'Predicted': y_pred.reshape(1,-1)[0]}) \n",
        "s_data"
      ],
      "execution_count": 31,
      "outputs": [
        {
          "output_type": "execute_result",
          "data": {
            "text/html": [
              "<div>\n",
              "<style scoped>\n",
              "    .dataframe tbody tr th:only-of-type {\n",
              "        vertical-align: middle;\n",
              "    }\n",
              "\n",
              "    .dataframe tbody tr th {\n",
              "        vertical-align: top;\n",
              "    }\n",
              "\n",
              "    .dataframe thead th {\n",
              "        text-align: right;\n",
              "    }\n",
              "</style>\n",
              "<table border=\"1\" class=\"dataframe\">\n",
              "  <thead>\n",
              "    <tr style=\"text-align: right;\">\n",
              "      <th></th>\n",
              "      <th>Hours</th>\n",
              "      <th>Actual</th>\n",
              "      <th>Predicted</th>\n",
              "    </tr>\n",
              "  </thead>\n",
              "  <tbody>\n",
              "    <tr>\n",
              "      <th>0</th>\n",
              "      <td>1.5</td>\n",
              "      <td>20</td>\n",
              "      <td>16.884145</td>\n",
              "    </tr>\n",
              "    <tr>\n",
              "      <th>1</th>\n",
              "      <td>3.2</td>\n",
              "      <td>27</td>\n",
              "      <td>33.732261</td>\n",
              "    </tr>\n",
              "    <tr>\n",
              "      <th>2</th>\n",
              "      <td>7.4</td>\n",
              "      <td>69</td>\n",
              "      <td>75.357018</td>\n",
              "    </tr>\n",
              "    <tr>\n",
              "      <th>3</th>\n",
              "      <td>2.5</td>\n",
              "      <td>30</td>\n",
              "      <td>26.794801</td>\n",
              "    </tr>\n",
              "    <tr>\n",
              "      <th>4</th>\n",
              "      <td>5.9</td>\n",
              "      <td>62</td>\n",
              "      <td>60.491033</td>\n",
              "    </tr>\n",
              "  </tbody>\n",
              "</table>\n",
              "</div>"
            ],
            "text/plain": [
              "   Hours  Actual  Predicted\n",
              "0    1.5      20  16.884145\n",
              "1    3.2      27  33.732261\n",
              "2    7.4      69  75.357018\n",
              "3    2.5      30  26.794801\n",
              "4    5.9      62  60.491033"
            ]
          },
          "metadata": {
            "tags": []
          },
          "execution_count": 31
        }
      ]
    },
    {
      "cell_type": "markdown",
      "metadata": {
        "id": "WWtK1udOkYLp"
      },
      "source": [
        "***ACCURACY OF MODEL***"
      ]
    },
    {
      "cell_type": "code",
      "metadata": {
        "colab": {
          "base_uri": "https://localhost:8080/"
        },
        "id": "ZdkI0NtykXvX",
        "outputId": "e5f88cec-424e-42bd-d505-3d2e81e08ad4"
      },
      "source": [
        "from sklearn import metrics  \n",
        "print('Mean Absolute Error:', \n",
        "      metrics.mean_absolute_error(y_test, y_pred)) "
      ],
      "execution_count": 32,
      "outputs": [
        {
          "output_type": "stream",
          "text": [
            "Mean Absolute Error: 4.183859899002982\n"
          ],
          "name": "stdout"
        }
      ]
    },
    {
      "cell_type": "markdown",
      "metadata": {
        "id": "jeAzttRPkv9x"
      },
      "source": [
        "So the mean absolute vale of error is small so there are less possibilities of errors."
      ]
    },
    {
      "cell_type": "markdown",
      "metadata": {
        "id": "J9hPyHfllDNg"
      },
      "source": [
        "***PREDICTION USING MODEL***"
      ]
    },
    {
      "cell_type": "markdown",
      "metadata": {
        "id": "I-4EQdLvladE"
      },
      "source": [
        "**Q. What will be the predicted score if a student studies for 9.25 hrs/day?**"
      ]
    },
    {
      "cell_type": "code",
      "metadata": {
        "colab": {
          "base_uri": "https://localhost:8080/"
        },
        "id": "BgG4h6uBk8Wi",
        "outputId": "97387bf1-9f1c-482f-cab5-66fd3f3ddd8a"
      },
      "source": [
        "hours = 9.25\n",
        "result = regressor.predict([[hours]])\n",
        "print(result)"
      ],
      "execution_count": 33,
      "outputs": [
        {
          "output_type": "stream",
          "text": [
            "[[93.69173249]]\n"
          ],
          "name": "stdout"
        }
      ]
    },
    {
      "cell_type": "markdown",
      "metadata": {
        "id": "7VsNCBY7mMeo"
      },
      "source": [
        "**RESULT- According to the model, if a student studies for 9.25 hours per day, than he/she will score 93.6917 %.**"
      ]
    }
  ]
}